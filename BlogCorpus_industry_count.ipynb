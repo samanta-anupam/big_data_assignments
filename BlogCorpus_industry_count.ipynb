{
 "cells": [
  {
   "cell_type": "markdown",
   "metadata": {},
   "source": [
    "## Blog Corpus Big Data Assignment\n",
    "\n",
    "### Goal: To get industry name mentions in blogs and their count.\n",
    "\n",
    "We should be able to replace data with other sets (containing any types of comparable elements) and have it run correctly. \n",
    "\n",
    "Search for mentions of industry words in the blog authorship corpus.\n",
    "The goal here is to first find all of the possible industries in which bloggers were classified. Then, to search each blogger’s posts for mentions of those industries and, counting the mentions by month and year.  \n",
    "\n",
    "Download the corpus here: http://u.cs.biu.ac.il/~koppel/BlogCorpus.htm  \n",
    "\n",
    "\n",
    "Unzip the corpus file and look at the contents of a few files before reading on. Each file in the corpus is named according to information about the blogger: user_id.gender.age.industry.star_sign.xml  \n",
    "\n",
    "Within each xml file, there is a “<date>” tag which indicates the date of a proceeding “<post>”, which contains the text of an individual blog post.  "
   ]
  },
  {
   "cell_type": "code",
   "execution_count": 1,
   "metadata": {
    "collapsed": true
   },
   "outputs": [],
   "source": [
    "from pyspark import SparkContext, SparkConf\n",
    "import os\n",
    "import re\n",
    "import pprint"
   ]
  },
  {
   "cell_type": "code",
   "execution_count": 2,
   "metadata": {
    "collapsed": true
   },
   "outputs": [],
   "source": [
    "sc = SparkContext()"
   ]
  },
  {
   "cell_type": "markdown",
   "metadata": {},
   "source": [
    "## Create an rdd of all the filenames\n",
    "Create an rdd for the contents of all files [i.e. sc.wholeTextFiles(file1,file2,...) ]"
   ]
  },
  {
   "cell_type": "code",
   "execution_count": 3,
   "metadata": {
    "collapsed": true
   },
   "outputs": [],
   "source": [
    "data = sc.wholeTextFiles('blogs/*.xml')"
   ]
  },
  {
   "cell_type": "markdown",
   "metadata": {},
   "source": [
    "***\n",
    "## Get all possible industry names:\n",
    "- Use transformations until you are left with only a set of possible industries\n",
    "- Use an action to export the rdd to a set and make this a spark broadcast variable"
   ]
  },
  {
   "cell_type": "code",
   "execution_count": 4,
   "metadata": {
    "collapsed": true
   },
   "outputs": [],
   "source": [
    "def get_industry_name(path):\n",
    "    file_name = os.path.splitext(os.path.basename(path))\n",
    "    return file_name[0].split('.')[-2]\n",
    "\n",
    "rddIndustrySet = data.map(lambda file: get_industry_name(file[0]))\n",
    "rddIndustrySet.persist()\n",
    "\n",
    "industries = sc.broadcast(set(rddIndustrySet.collect()))"
   ]
  },
  {
   "cell_type": "code",
   "execution_count": 15,
   "metadata": {},
   "outputs": [
    {
     "name": "stdout",
     "output_type": "stream",
     "text": [
      "{'Automotive', 'Publishing', 'Banking', 'Maritime', 'Architecture', 'Sports-Recreation', 'Science', 'Education', 'Agriculture', 'Non-Profit', 'Consulting', 'Technology', 'Fashion', 'indUnk', 'Internet', 'Accounting', 'Communications-Media', 'Marketing', 'InvestmentBanking', 'Manufacturing', 'Telecommunications', 'Construction', 'Advertising', 'Military', 'Student', 'Environment', 'Religion', 'Museums-Libraries', 'RealEstate', 'Law', 'HumanResources', 'Tourism', 'Biotech', 'Transportation', 'BusinessServices', 'Engineering', 'Arts', 'Chemicals', 'LawEnforcement-Security', 'Government'}\n"
     ]
    }
   ],
   "source": [
    "print(industries.value)"
   ]
  },
  {
   "cell_type": "markdown",
   "metadata": {},
   "source": [
    "***\n",
    "## Search for industry names in posts, recording by year-month:\n",
    "\n",
    "- Use transformations to search all posts across all blogs for mentions of industries, and record the frequency each industry was mentioned by month and year.  \n",
    "\n",
    "- The industry names should only be matched, case insensitive, if they are next to a word boundary -- space or punctuation (e.g. “marketing” would match “I am in marketing sales” and “Marketing.” but not “I like supermarketing.” or “This is marketing5 now.”)."
   ]
  },
  {
   "cell_type": "code",
   "execution_count": 5,
   "metadata": {
    "collapsed": true
   },
   "outputs": [],
   "source": [
    "def parse_blog(file):\n",
    "    content = file[1]\n",
    "    content = content.replace('<Blog>', '').replace('</Blog>', '')\n",
    "    content = content.replace('<date>', '').replace('<post>', '')\n",
    "    content = ' '.join(content.split()).strip()\n",
    "    \n",
    "    blog_list = content.split('</post>')[:-1]\n",
    "    blog_date_post_list = list()\n",
    "    for line in blog_list:\n",
    "        date, post = line.split('</date>')\n",
    "        date = date.strip()\n",
    "        post = post.strip()\n",
    "        dmy = date.split(',')\n",
    "        date = dmy[2]+'-'+dmy[1]\n",
    "        pattern = re.compile('[^A-Za-z0-9 -]')\n",
    "        post = pattern.sub('', post)\n",
    "        blog_date_post_list.append((date, post))\n",
    "\n",
    "    counts = dict()\n",
    "    for date, post in blog_date_post_list:\n",
    "        for word in post.split():\n",
    "            word = word.lower()  # makes this case-insensitive\n",
    "            for w in industries.value:\n",
    "                if w.lower()==word:\n",
    "                    try:  # try/except KeyError is just a faster way to check if w is in counts:\n",
    "                        counts[(w, date)] += 1\n",
    "                    except KeyError:\n",
    "                        counts[(w, date)] = 1\n",
    "    return sorted(list(counts.items()))"
   ]
  },
  {
   "cell_type": "markdown",
   "metadata": {},
   "source": [
    "***\n",
    "## Record frequencies\n",
    "\n",
    "Use an action to print the recorded frequencies in this format:\n",
    "- [(industry1, ((year-month1, count), (year-month2, count), …),\n",
    "- (industry2, ((year-month1, count), (year-month2, count), …), …]"
   ]
  },
  {
   "cell_type": "code",
   "execution_count": 6,
   "metadata": {
    "collapsed": true,
    "scrolled": true
   },
   "outputs": [],
   "source": [
    "rddIndVsDate = data.flatMap(parse_blog).reduceByKey(lambda a, b: a+b)"
   ]
  },
  {
   "cell_type": "code",
   "execution_count": 7,
   "metadata": {
    "collapsed": true
   },
   "outputs": [],
   "source": [
    "rddFinal = rddIndVsDate.map(lambda value: (value[0][0], (value[0][1], value[1])))\n",
    "rddFinal = rddFinal.sortBy(lambda x: x[1]).groupByKey().mapValues(list)"
   ]
  },
  {
   "cell_type": "code",
   "execution_count": 11,
   "metadata": {},
   "outputs": [
    {
     "name": "stdout",
     "output_type": "stream",
     "text": [
      "[('Arts', [('-', 1), ('1999-May', 1), ('1999-September', 1), ('2000-October', 1), ('2000-September', 1), ('2001-August', 1), ('2001-December', 1), ('2001-March', 1), ('2001-May', 1), ('2001-November', 1), ('2001-October', 1), ('2001-September', 1), ('2002-April', 5), ('2002-August', 8), ('2002-December', 10), ('2002-February', 5), ('2002-July', 9), ('2002-June', 4), ('2002-March', 1), ('2002-May', 4), ('2002-November', 20), ('2002-October', 14), ('2002-September', 21), ('2003-April', 31), ('2003-August', 64), ('2003-December', 63), ('2003-February', 37), ('2003-January', 10), ('2003-July', 50), ('2003-June', 41), ('2003-March', 30), ('2003-May', 52), ('2003-November', 93), ('2003-October', 40), ('2003-September', 58), ('2004-Agosto', 2), ('2004-April', 160), ('2004-Aprill', 1), ('2004-August', 547), ('2004-February', 102), ('2004-January', 93), ('2004-Julho', 6), ('2004-July', 757), ('2004-June', 545), ('2004-Junho', 3), ('2004-Juni', 1), ('2004-Maio', 1), ('2004-March', 180), ('2004-May', 394), ('2004-November', 1), ('2004-agosto', 4), ('2004-czerwiec', 2), ('2004-giugno', 15), ('2004-janvier', 1), ('2004-juillet', 2), ('2004-juin', 1), ('2004-julio', 3), ('2004-junio', 1), ('2004-mars', 3), ('2004-marzo', 3), ('2004-mayo', 2)]), ('Science', [('-', 1), ('1999-January', 1), ('2000-August', 2), ('2000-June', 1), ('2000-October', 2), ('2001-April', 1), ('2001-August', 10), ('2001-December', 2), ('2001-July', 6), ('2001-June', 3), ('2001-May', 10), ('2001-November', 4), ('2001-October', 4), ('2001-September', 9), ('2002-April', 9), ('2002-August', 26), ('2002-December', 36), ('2002-February', 9), ('2002-January', 5), ('2002-July', 15), ('2002-June', 3), ('2002-March', 2), ('2002-May', 14), ('2002-November', 43), ('2002-October', 38), ('2002-September', 24), ('2003-April', 91), ('2003-August', 130), ('2003-December', 165), ('2003-Dezember', 1), ('2003-February', 79), ('2003-January', 52), ('2003-July', 73), ('2003-June', 97), ('2003-March', 73), ('2003-May', 102), ('2003-November', 222), ('2003-October', 172), ('2003-September', 123), ('2003-junio', 2), ('2003-marzo', 1), ('2003-novembre', 1), ('2003-noviembre', 1), ('2003-octubre', 1), ('2003-ottobre', 3), ('2004-Agosto', 2), ('2004-April', 369), ('2004-August', 1568), ('2004-Februar', 2), ('2004-February', 302), ('2004-January', 247), ('2004-Julho', 7), ('2004-Juli', 1), ('2004-July', 2039), ('2004-June', 1593), ('2004-Junho', 2), ('2004-Mai', 2), ('2004-Maio', 4), ('2004-March', 341), ('2004-May', 1172), ('2004-abril', 3), ('2004-agosto', 6), ('2004-avril', 3), ('2004-janvier', 1), ('2004-juillet', 10), ('2004-juin', 14), ('2004-julio', 2), ('2004-junio', 2), ('2004-lipiec', 1), ('2004-mai', 1), ('2004-mars', 6), ('2004-marzo', 1), ('2004-mayo', 3)]), ('Student', [('-', 3), ('2000-February', 3), ('2000-July', 1), ('2000-June', 1), ('2000-May', 8), ('2000-September', 4), ('2001-April', 3), ('2001-August', 3), ('2001-December', 3), ('2001-February', 2), ('2001-January', 3), ('2001-July', 1), ('2001-June', 9), ('2001-March', 3), ('2001-May', 8), ('2001-November', 4), ('2001-October', 9), ('2001-September', 6), ('2002-April', 28), ('2002-August', 53), ('2002-December', 40), ('2002-Dezembro', 1), ('2002-February', 6), ('2002-January', 10), ('2002-July', 21), ('2002-June', 12), ('2002-March', 11), ('2002-May', 14), ('2002-November', 78), ('2002-October', 59), ('2002-Outubro', 1), ('2002-September', 49), ('2003-April', 113), ('2003-August', 179), ('2003-December', 176), ('2003-February', 104), ('2003-January', 74), ('2003-July', 150), ('2003-June', 125), ('2003-March', 109), ('2003-May', 99), ('2003-November', 256), ('2003-October', 205), ('2003-September', 215), ('2003-desember', 2), ('2003-mars', 3), ('2003-marzo', 1), ('2003-noviembre', 2), ('2003-octubre', 1), ('2003-september', 12), ('2004-Agosto', 1), ('2004-April', 638), ('2004-August', 1520), ('2004-February', 381), ('2004-Januar', 1), ('2004-January', 307), ('2004-Julho', 9), ('2004-July', 2250), ('2004-June', 1673), ('2004-Junho', 5), ('2004-Mai', 3), ('2004-Maio', 12), ('2004-March', 436), ('2004-May', 1100), ('2004-abril', 2), ('2004-agosto', 2), ('2004-avril', 1), ('2004-enero', 1), ('2004-giugno', 5), ('2004-juillet', 3), ('2004-juin', 66), ('2004-juli', 1), ('2004-julio', 4), ('2004-junio', 3), ('2004-mai', 1), ('2004-maj', 1), ('2004-mars', 13), ('2004-marzo', 1), ('2004-mayo', 2)]), ('Law', [('1999-December', 1), ('1999-November', 1), ('1999-October', 1), ('2000-January', 1), ('2000-June', 1), ('2000-November', 2), ('2001-April', 2), ('2001-August', 4), ('2001-December', 7), ('2001-February', 3), ('2001-January', 2), ('2001-July', 8), ('2001-June', 10), ('2001-March', 2), ('2001-May', 10), ('2001-November', 4), ('2001-October', 1), ('2001-September', 3), ('2002-April', 29), ('2002-August', 117), ('2002-December', 124), ('2002-Dezembro', 1), ('2002-February', 10), ('2002-January', 12), ('2002-July', 29), ('2002-June', 25), ('2002-March', 5), ('2002-May', 12), ('2002-November', 131), ('2002-October', 126), ('2002-September', 61), ('2002-desember', 1), ('2003-April', 255), ('2003-August', 244), ('2003-December', 367), ('2003-February', 131), ('2003-January', 195), ('2003-July', 276), ('2003-June', 317), ('2003-March', 228), ('2003-May', 255), ('2003-November', 440), ('2003-October', 263), ('2003-September', 304), ('2003-agosto', 5), ('2003-diciembre', 1), ('2003-noviembre', 1), ('2003-septiembre', 1), ('2004-April', 664), ('2004-August', 2487), ('2004-Februar', 2), ('2004-February', 560), ('2004-January', 394), ('2004-Julho', 48), ('2004-Juli', 1), ('2004-July', 3343), ('2004-June', 2276), ('2004-Junho', 9), ('2004-Juni', 1), ('2004-Mai', 3), ('2004-Maio', 7), ('2004-March', 864), ('2004-May', 1585), ('2004-abril', 2), ('2004-agosto', 4), ('2004-august', 2), ('2004-augustus', 5), ('2004-avril', 1), ('2004-enero', 1), ('2004-juillet', 5), ('2004-juli', 3), ('2004-julio', 3), ('2004-junio', 8), ('2004-mars', 11), ('2004-marzo', 2)]), ('Religion', [('1999-July', 1), ('1999-September', 1), ('2000-August', 5), ('2000-December', 4), ('2000-June', 1), ('2000-November', 1), ('2000-October', 1), ('2001-April', 2), ('2001-August', 2), ('2001-December', 2), ('2001-February', 4), ('2001-January', 6), ('2001-July', 2), ('2001-June', 2), ('2001-March', 1), ('2001-November', 3), ('2001-October', 8), ('2001-September', 8), ('2002-April', 6), ('2002-August', 28), ('2002-December', 29), ('2002-February', 3), ('2002-January', 3), ('2002-July', 9), ('2002-June', 9), ('2002-March', 3), ('2002-May', 7), ('2002-November', 20), ('2002-October', 18), ('2002-September', 22), ('2003-April', 94), ('2003-August', 133), ('2003-December', 105), ('2003-Dezember', 3), ('2003-February', 49), ('2003-January', 18), ('2003-July', 57), ('2003-June', 105), ('2003-March', 121), ('2003-May', 62), ('2003-November', 145), ('2003-October', 118), ('2003-September', 130), ('2003-abril', 5), ('2003-enero', 2), ('2003-febrero', 6), ('2003-junio', 1), ('2003-mayo', 2), ('2003-september', 1), ('2003-septiembre', 1), ('2004-Agosto', 1), ('2004-April', 318), ('2004-Aprill', 2), ('2004-August', 1270), ('2004-December', 1), ('2004-Februar', 4), ('2004-February', 257), ('2004-Januar', 1), ('2004-January', 137), ('2004-Julho', 4), ('2004-Juli', 5), ('2004-July', 1738), ('2004-June', 1375), ('2004-Junho', 14), ('2004-Juni', 4), ('2004-Mai', 1), ('2004-Maio', 2), ('2004-March', 345), ('2004-May', 904), ('2004-abril', 2), ('2004-agosto', 10), ('2004-enero', 2), ('2004-giugno', 1), ('2004-janvier', 2), ('2004-juillet', 2), ('2004-juin', 10), ('2004-juli', 1), ('2004-julio', 4), ('2004-junio', 5), ('2004-mars', 2), ('2004-marzo', 8), ('2004-mayo', 9)]), ('Military', [('2000-August', 2), ('2001-August', 1), ('2001-December', 2), ('2001-July', 1), ('2001-November', 6), ('2001-October', 7), ('2001-September', 19), ('2002-August', 12), ('2002-December', 1), ('2002-January', 2), ('2002-July', 5), ('2002-June', 6), ('2002-May', 5), ('2002-November', 15), ('2002-October', 11), ('2002-September', 16), ('2002-desember', 2), ('2003-April', 165), ('2003-August', 75), ('2003-December', 101), ('2003-February', 41), ('2003-January', 28), ('2003-July', 87), ('2003-June', 73), ('2003-March', 179), ('2003-May', 106), ('2003-November', 124), ('2003-October', 94), ('2003-September', 70), ('2003-agosto', 1), ('2003-julio', 2), ('2003-septiembre', 5), ('2004-Agosto', 1), ('2004-April', 476), ('2004-Aprill', 1), ('2004-August', 1695), ('2004-February', 142), ('2004-January', 105), ('2004-Julho', 4), ('2004-Juli', 1), ('2004-July', 2295), ('2004-June', 1468), ('2004-Junho', 17), ('2004-Juni', 2), ('2004-Mai', 1), ('2004-Maio', 3), ('2004-March', 224), ('2004-May', 1378), ('2004-abril', 1), ('2004-agosto', 7), ('2004-febrero', 1), ('2004-julio', 2), ('2004-junio', 7), ('2004-marzo', 2)]), ('Advertising', [('2000-December', 1), ('2000-November', 1), ('2000-October', 1), ('2000-September', 1), ('2001-August', 2), ('2001-December', 2), ('2001-July', 1), ('2001-June', 1), ('2001-May', 2), ('2001-November', 2), ('2001-October', 1), ('2001-September', 4), ('2002-April', 3), ('2002-August', 9), ('2002-December', 6), ('2002-February', 3), ('2002-January', 1), ('2002-July', 8), ('2002-June', 10), ('2002-March', 2), ('2002-May', 5), ('2002-November', 10), ('2002-October', 13), ('2002-September', 6), ('2003-April', 18), ('2003-August', 42), ('2003-December', 51), ('2003-February', 11), ('2003-January', 9), ('2003-July', 38), ('2003-June', 29), ('2003-March', 19), ('2003-May', 20), ('2003-November', 32), ('2003-October', 34), ('2003-September', 22), ('2003-ottobre', 1), ('2004-April', 136), ('2004-August', 429), ('2004-February', 76), ('2004-January', 55), ('2004-Julho', 1), ('2004-July', 682), ('2004-June', 541), ('2004-Junho', 2), ('2004-Maio', 3), ('2004-March', 65), ('2004-May', 273), ('2004-agosto', 3), ('2004-juillet', 1), ('2004-julio', 1), ('2004-maj', 2)]), ('Manufacturing', [('2000-June', 1), ('2001-January', 1), ('2002-December', 1), ('2002-October', 3), ('2003-April', 8), ('2003-August', 3), ('2003-December', 6), ('2003-February', 2), ('2003-January', 1), ('2003-July', 3), ('2003-June', 2), ('2003-May', 2), ('2003-November', 3), ('2003-October', 6), ('2003-September', 8), ('2004-April', 39), ('2004-August', 118), ('2004-February', 23), ('2004-January', 11), ('2004-July', 123), ('2004-June', 95), ('2004-Maio', 2), ('2004-March', 14), ('2004-May', 52), ('2004-agosto', 3), ('2004-iulie', 1), ('2004-junio', 1)]), ('Accounting', [('2001-April', 1), ('2001-December', 4), ('2001-September', 2), ('2002-August', 3), ('2002-December', 1), ('2002-February', 1), ('2002-July', 1), ('2002-May', 1), ('2002-November', 2), ('2002-October', 4), ('2002-September', 5), ('2003-April', 13), ('2003-August', 11), ('2003-December', 18), ('2003-February', 2), ('2003-January', 5), ('2003-July', 5), ('2003-June', 2), ('2003-March', 7), ('2003-May', 12), ('2003-November', 13), ('2003-October', 19), ('2003-September', 20), ('2004-April', 32), ('2004-August', 123), ('2004-Februar', 2), ('2004-February', 20), ('2004-January', 15), ('2004-July', 210), ('2004-June', 181), ('2004-Mai', 1), ('2004-March', 38), ('2004-May', 86), ('2004-maj', 1)]), ('Banking', [('2001-December', 1), ('2001-October', 1), ('2002-August', 3), ('2002-December', 1), ('2002-February', 1), ('2002-July', 1), ('2002-March', 1), ('2002-May', 2), ('2002-November', 3), ('2002-October', 2), ('2002-September', 2), ('2003-April', 9), ('2003-August', 5), ('2003-December', 7), ('2003-February', 2), ('2003-January', 2), ('2003-July', 15), ('2003-June', 3), ('2003-March', 1), ('2003-May', 3), ('2003-November', 6), ('2003-October', 7), ('2003-September', 4), ('2004-April', 22), ('2004-August', 89), ('2004-February', 11), ('2004-January', 14), ('2004-July', 167), ('2004-June', 138), ('2004-Mai', 1), ('2004-Maio', 7), ('2004-March', 15), ('2004-May', 84), ('2004-mars', 6)]), ('Non-Profit', [('2001-February', 1), ('2001-July', 1), ('2001-September', 1), ('2002-January', 1), ('2002-November', 1), ('2002-October', 4), ('2003-August', 3), ('2003-December', 5), ('2003-January', 3), ('2003-July', 6), ('2003-June', 5), ('2003-March', 2), ('2003-May', 3), ('2003-November', 5), ('2003-October', 3), ('2003-September', 8), ('2004-April', 6), ('2004-August', 56), ('2004-February', 13), ('2004-January', 7), ('2004-July', 98), ('2004-June', 54), ('2004-March', 8), ('2004-May', 36), ('2004-maj', 1)]), ('Agriculture', [('2001-July', 4), ('2001-September', 1), ('2002-November', 3), ('2002-October', 1), ('2002-September', 2), ('2003-April', 4), ('2003-August', 8), ('2003-December', 5), ('2003-February', 2), ('2003-July', 1), ('2003-June', 2), ('2003-May', 2), ('2003-October', 10), ('2003-September', 6), ('2003-ottobre', 1), ('2004-April', 5), ('2004-August', 60), ('2004-February', 6), ('2004-January', 7), ('2004-July', 72), ('2004-June', 69), ('2004-Junho', 1), ('2004-March', 7), ('2004-May', 45), ('2004-agosto', 3)]), ('Telecommunications', [('2002-April', 1), ('2002-August', 1), ('2002-July', 3), ('2002-September', 1), ('2003-December', 2), ('2003-February', 4), ('2003-January', 1), ('2003-July', 1), ('2003-March', 1), ('2003-May', 3), ('2003-October', 2), ('2003-September', 4), ('2004-April', 5), ('2004-August', 23), ('2004-February', 5), ('2004-January', 4), ('2004-July', 40), ('2004-June', 36), ('2004-March', 6), ('2004-May', 24), ('2004-maj', 1)]), ('Automotive', [('2002-August', 1), ('2002-July', 1), ('2002-June', 2), ('2002-November', 2), ('2002-October', 1), ('2002-September', 1), ('2003-August', 1), ('2003-December', 1), ('2003-February', 1), ('2003-July', 3), ('2003-May', 1), ('2003-November', 1), ('2003-October', 2), ('2004-April', 18), ('2004-August', 30), ('2004-February', 5), ('2004-January', 3), ('2004-July', 33), ('2004-June', 19), ('2004-March', 4), ('2004-May', 12)]), ('Consulting', [('2002-August', 4), ('2002-December', 1), ('2002-February', 1), ('2002-July', 11), ('2002-June', 4), ('2002-November', 2), ('2002-October', 3), ('2002-September', 4), ('2003-April', 2), ('2003-August', 8), ('2003-December', 11), ('2003-February', 3), ('2003-January', 2), ('2003-July', 4), ('2003-June', 11), ('2003-March', 2), ('2003-May', 7), ('2003-November', 4), ('2003-October', 7), ('2003-September', 8), ('2004-April', 13), ('2004-August', 85), ('2004-February', 6), ('2004-January', 29), ('2004-July', 114), ('2004-June', 109), ('2004-Junho', 1), ('2004-Mai', 1), ('2004-Maio', 1), ('2004-March', 19), ('2004-May', 29), ('2004-agosto', 3), ('2004-czerwiec', 1), ('2004-mars', 2)]), ('Construction', [('-', 1), ('2000-February', 1), ('2000-September', 1), ('2001-April', 1), ('2001-August', 2), ('2001-July', 1), ('2001-November', 1), ('2001-October', 2), ('2001-September', 3), ('2002-April', 8), ('2002-August', 10), ('2002-December', 6), ('2002-January', 2), ('2002-July', 6), ('2002-June', 4), ('2002-March', 3), ('2002-May', 1), ('2002-November', 9), ('2002-October', 14), ('2002-September', 13), ('2002-desember', 1), ('2003-April', 18), ('2003-August', 42), ('2003-December', 33), ('2003-February', 13), ('2003-January', 12), ('2003-July', 40), ('2003-June', 22), ('2003-March', 28), ('2003-May', 27), ('2003-November', 38), ('2003-October', 41), ('2003-September', 29), ('2003-diciembre', 1), ('2003-ottobre', 1), ('2004-Agosto', 1), ('2004-April', 73), ('2004-August', 457), ('2004-February', 71), ('2004-January', 39), ('2004-Julho', 5), ('2004-July', 651), ('2004-June', 471), ('2004-Junho', 1), ('2004-Maio', 5), ('2004-March', 84), ('2004-May', 244), ('2004-October', 1), ('2004-agosto', 2), ('2004-febrero', 1), ('2004-juin', 3)]), ('Technology', [('-', 1), ('2000-August', 1), ('2000-June', 1), ('2000-May', 1), ('2000-October', 4), ('2001-April', 3), ('2001-August', 1), ('2001-December', 5), ('2001-July', 7), ('2001-June', 2), ('2001-November', 3), ('2001-October', 1), ('2001-September', 2), ('2002-April', 7), ('2002-August', 22), ('2002-December', 34), ('2002-February', 3), ('2002-January', 29), ('2002-July', 15), ('2002-June', 7), ('2002-March', 1), ('2002-May', 9), ('2002-November', 30), ('2002-October', 19), ('2002-September', 32), ('2003-April', 65), ('2003-August', 75), ('2003-December', 111), ('2003-February', 38), ('2003-January', 48), ('2003-July', 83), ('2003-June', 56), ('2003-March', 46), ('2003-May', 47), ('2003-November', 178), ('2003-October', 101), ('2003-September', 82), ('2003-mars', 1), ('2003-ottobre', 1), ('2003-september', 3), ('2004-Agosto', 1), ('2004-April', 315), ('2004-Aprill', 1), ('2004-August', 1132), ('2004-Februar', 1), ('2004-February', 165), ('2004-January', 156), ('2004-Julho', 4), ('2004-July', 1688), ('2004-June', 1478), ('2004-Junho', 3), ('2004-Juuli', 1), ('2004-Maio', 1), ('2004-March', 159), ('2004-May', 774), ('2004-agosto', 11), ('2004-czerwiec', 6), ('2004-juillet', 1), ('2004-juin', 4), ('2004-julio', 3), ('2004-lipiec', 5), ('2004-maj', 4), ('2004-mars', 1), ('2004-marzo', 2), ('2004-mayo', 2)]), ('Education', [('-', 2), ('2000-March', 1), ('2001-April', 1), ('2001-August', 4), ('2001-December', 6), ('2001-January', 1), ('2001-July', 1), ('2001-June', 1), ('2001-March', 1), ('2001-May', 1), ('2001-November', 2), ('2001-October', 2), ('2002-April', 5), ('2002-August', 26), ('2002-December', 27), ('2002-February', 3), ('2002-January', 5), ('2002-July', 16), ('2002-June', 3), ('2002-March', 3), ('2002-May', 7), ('2002-November', 24), ('2002-October', 15), ('2002-September', 27), ('2003-April', 94), ('2003-August', 140), ('2003-December', 144), ('2003-February', 26), ('2003-Fevereiro', 1), ('2003-January', 29), ('2003-July', 145), ('2003-June', 92), ('2003-March', 60), ('2003-May', 62), ('2003-November', 144), ('2003-October', 108), ('2003-September', 171), ('2003-agosto', 1), ('2003-diciembre', 2), ('2003-julio', 3), ('2003-noviembre', 1), ('2003-september', 1), ('2003-septiembre', 2), ('2004-Agosto', 1), ('2004-April', 320), ('2004-August', 1336), ('2004-Februar', 2), ('2004-February', 263), ('2004-January', 212), ('2004-Julho', 3), ('2004-July', 1863), ('2004-June', 1485), ('2004-Junho', 5), ('2004-Juni', 1), ('2004-Mai', 1), ('2004-Maio', 7), ('2004-March', 356), ('2004-May', 972), ('2004-abril', 3), ('2004-agosto', 7), ('2004-august', 2), ('2004-giugno', 2), ('2004-ianuarie', 1), ('2004-iulie', 1), ('2004-janvier', 5), ('2004-juillet', 4), ('2004-julio', 4), ('2004-juni', 5), ('2004-junio', 2), ('2004-marzo', 1)]), ('Publishing', [('1999-August', 1), ('2000-October', 1), ('2000-September', 2), ('2001-August', 1), ('2001-December', 1), ('2001-July', 1), ('2001-June', 2), ('2001-May', 2), ('2001-October', 1), ('2001-September', 2), ('2002-April', 3), ('2002-August', 12), ('2002-December', 33), ('2002-February', 3), ('2002-January', 5), ('2002-July', 7), ('2002-June', 1), ('2002-March', 1), ('2002-May', 3), ('2002-November', 12), ('2002-October', 9), ('2002-September', 16), ('2003-April', 14), ('2003-August', 37), ('2003-December', 31), ('2003-February', 17), ('2003-January', 18), ('2003-July', 45), ('2003-June', 14), ('2003-March', 19), ('2003-May', 17), ('2003-November', 36), ('2003-October', 29), ('2003-September', 31), ('2004-April', 83), ('2004-August', 254), ('2004-Februar', 1), ('2004-February', 52), ('2004-January', 41), ('2004-Julho', 1), ('2004-July', 346), ('2004-June', 271), ('2004-Junho', 1), ('2004-March', 95), ('2004-May', 214), ('2004-agosto', 1), ('2004-janvier', 1), ('2004-marzo', 2)]), ('Environment', [('1999-January', 1), ('2000-August', 1), ('2000-July', 1), ('2000-September', 1), ('2001-December', 2), ('2001-January', 3), ('2001-July', 1), ('2001-June', 1), ('2001-March', 2), ('2001-May', 4), ('2001-November', 1), ('2001-October', 1), ('2001-September', 1), ('2002-April', 8), ('2002-August', 13), ('2002-December', 22), ('2002-February', 11), ('2002-January', 4), ('2002-July', 16), ('2002-June', 9), ('2002-March', 5), ('2002-May', 6), ('2002-November', 23), ('2002-October', 14), ('2002-September', 21), ('2003-April', 30), ('2003-August', 56), ('2003-December', 72), ('2003-Dezember', 1), ('2003-February', 24), ('2003-January', 22), ('2003-July', 50), ('2003-June', 35), ('2003-March', 28), ('2003-May', 60), ('2003-November', 66), ('2003-October', 70), ('2003-September', 96), ('2003-agosto', 1), ('2003-octobre', 1), ('2004-April', 183), ('2004-Aprill', 1), ('2004-August', 816), ('2004-February', 110), ('2004-Januar', 1), ('2004-January', 107), ('2004-Julho', 2), ('2004-July', 1185), ('2004-June', 822), ('2004-Juni', 1), ('2004-Maio', 10), ('2004-March', 168), ('2004-May', 559), ('2004-agosto', 1), ('2004-august', 2), ('2004-czerwiec', 8), ('2004-februarie', 1), ('2004-iulie', 2), ('2004-janvier', 1), ('2004-juillet', 1), ('2004-juin', 1), ('2004-junio', 11), ('2004-lipiec', 1), ('2004-maj', 3), ('2004-mayo', 5)]), ('Fashion', [('1999-July', 1), ('2000-August', 1), ('2000-September', 1), ('2001-August', 2), ('2001-February', 2), ('2001-January', 2), ('2001-July', 5), ('2001-June', 4), ('2001-May', 1), ('2001-November', 5), ('2001-October', 6), ('2001-September', 1), ('2002-April', 11), ('2002-August', 21), ('2002-December', 19), ('2002-Dezembro', 1), ('2002-February', 4), ('2002-January', 3), ('2002-July', 7), ('2002-June', 7), ('2002-March', 2), ('2002-May', 8), ('2002-November', 21), ('2002-October', 18), ('2002-September', 19), ('2003-April', 22), ('2003-August', 62), ('2003-December', 79), ('2003-February', 23), ('2003-January', 15), ('2003-July', 46), ('2003-June', 28), ('2003-March', 39), ('2003-May', 42), ('2003-November', 79), ('2003-October', 85), ('2003-September', 76), ('2003-agosto', 1), ('2003-diciembre', 1), ('2003-febrero', 1), ('2003-julio', 1), ('2003-noviembre', 1), ('2004-Agosto', 3), ('2004-April', 271), ('2004-Aprill', 2), ('2004-August', 773), ('2004-December', 1), ('2004-Februar', 2), ('2004-February', 144), ('2004-Janeiro', 1), ('2004-January', 137), ('2004-Julho', 31), ('2004-Juli', 2), ('2004-July', 1155), ('2004-June', 800), ('2004-Junho', 6), ('2004-Maio', 5), ('2004-March', 219), ('2004-May', 427), ('2004-abril', 1), ('2004-agosto', 2), ('2004-avril', 2), ('2004-enero', 2), ('2004-febrero', 1), ('2004-janvier', 16), ('2004-juillet', 3), ('2004-junio', 1), ('2004-lipiec', 2), ('2004-mai', 2), ('2004-mars', 6), ('2004-marzo', 2)]), ('Internet', [('1999-November', 1), ('2000-August', 2), ('2000-December', 1), ('2000-January', 2), ('2000-November', 3), ('2000-October', 4), ('2000-September', 1), ('2001-April', 11), ('2001-August', 9), ('2001-December', 20), ('2001-February', 4), ('2001-January', 10), ('2001-July', 10), ('2001-June', 11), ('2001-March', 11), ('2001-May', 19), ('2001-November', 10), ('2001-October', 16), ('2001-September', 19), ('2002-April', 22), ('2002-August', 103), ('2002-December', 89), ('2002-Dezembro', 1), ('2002-February', 12), ('2002-January', 35), ('2002-July', 60), ('2002-June', 38), ('2002-March', 23), ('2002-May', 23), ('2002-November', 86), ('2002-October', 87), ('2002-Outubro', 1), ('2002-September', 91), ('2002-desember', 9), ('2002-kolovoz', 1), ('2003-Abril', 3), ('2003-April', 215), ('2003-August', 271), ('2003-December', 400), ('2003-February', 116), ('2003-January', 114), ('2003-July', 295), ('2003-June', 155), ('2003-March', 138), ('2003-May', 162), ('2003-November', 326), ('2003-Novembro', 2), ('2003-October', 317), ('2003-September', 281), ('2003-Setembro', 1), ('2003-agosto', 2), ('2003-desember', 4), ('2003-febrero', 3), ('2003-junio', 1), ('2003-mars', 7), ('2003-octubre', 2), ('2003-ottobre', 6), ('2003-september', 24), ('2003-septiembre', 1), ('2004-April', 750), ('2004-Aprill', 5), ('2004-August', 3162), ('2004-Februar', 6), ('2004-February', 565), ('2004-Fevereiro', 1), ('2004-Januar', 3), ('2004-January', 518), ('2004-Julho', 19), ('2004-Juli', 1), ('2004-July', 4572), ('2004-June', 3847), ('2004-Junho', 19), ('2004-Juni', 1), ('2004-Juuni', 1), ('2004-Mai', 3), ('2004-Maio', 18), ('2004-March', 602), ('2004-May', 2117), ('2004-abril', 7), ('2004-agosto', 23), ('2004-august', 1), ('2004-czerwiec', 2), ('2004-enero', 1), ('2004-febrero', 2), ('2004-iulie', 1), ('2004-janvier', 2), ('2004-juillet', 15), ('2004-juin', 15), ('2004-juli', 3), ('2004-julio', 14), ('2004-juni', 2), ('2004-junio', 9), ('2004-lipiec', 5), ('2004-luglio', 6), ('2004-mai', 1), ('2004-maj', 6), ('2004-mars', 28), ('2004-marzo', 7), ('2004-mayo', 5), ('2004-mei', 1)]), ('Government', [('1999-September', 6), ('2000-March', 4), ('2000-October', 5), ('2001-April', 2), ('2001-August', 1), ('2001-December', 5), ('2001-January', 3), ('2001-July', 3), ('2001-June', 4), ('2001-March', 2), ('2001-May', 1), ('2001-November', 3), ('2001-October', 3), ('2001-September', 12), ('2002-April', 12), ('2002-August', 32), ('2002-December', 33), ('2002-February', 2), ('2002-January', 7), ('2002-July', 27), ('2002-June', 21), ('2002-March', 2), ('2002-May', 9), ('2002-November', 41), ('2002-October', 39), ('2002-September', 52), ('2003-April', 266), ('2003-August', 198), ('2003-December', 160), ('2003-February', 99), ('2003-Fevereiro', 1), ('2003-January', 55), ('2003-July', 171), ('2003-June', 91), ('2003-March', 163), ('2003-May', 93), ('2003-November', 201), ('2003-October', 188), ('2003-September', 195), ('2003-agosto', 6), ('2003-diciembre', 3), ('2003-febrero', 1), ('2003-julio', 1), ('2003-junio', 2), ('2003-marzo', 1), ('2003-september', 2), ('2003-septiembre', 1), ('2004-Agosto', 1), ('2004-April', 761), ('2004-Aprill', 2), ('2004-August', 3329), ('2004-December', 1), ('2004-February', 408), ('2004-Januar', 1), ('2004-January', 277), ('2004-Julho', 5), ('2004-Juli', 1), ('2004-July', 4454), ('2004-June', 3464), ('2004-Junho', 29), ('2004-Juni', 3), ('2004-Mai', 4), ('2004-Maio', 10), ('2004-March', 619), ('2004-May', 2045), ('2004-agosto', 34), ('2004-giugno', 5), ('2004-iulie', 1), ('2004-juillet', 4), ('2004-juin', 2), ('2004-julio', 3), ('2004-juni', 3), ('2004-junio', 1), ('2004-lipiec', 2), ('2004-maj', 1), ('2004-mars', 6), ('2004-marzo', 2)]), ('Marketing', [('2000-August', 1), ('2000-June', 1), ('2000-November', 1), ('2000-October', 1), ('2000-September', 3), ('2001-December', 2), ('2001-January', 3), ('2001-June', 2), ('2001-May', 2), ('2001-November', 3), ('2001-October', 1), ('2001-September', 2), ('2002-April', 2), ('2002-August', 9), ('2002-December', 11), ('2002-February', 6), ('2002-January', 2), ('2002-July', 13), ('2002-June', 5), ('2002-May', 3), ('2002-November', 6), ('2002-October', 3), ('2002-September', 11), ('2003-April', 31), ('2003-August', 36), ('2003-December', 84), ('2003-February', 11), ('2003-January', 14), ('2003-July', 47), ('2003-June', 34), ('2003-March', 8), ('2003-May', 40), ('2003-November', 58), ('2003-October', 46), ('2003-September', 47), ('2003-agosto', 1), ('2004-April', 113), ('2004-August', 454), ('2004-February', 79), ('2004-January', 84), ('2004-Julho', 5), ('2004-July', 765), ('2004-June', 519), ('2004-Junho', 6), ('2004-Mai', 3), ('2004-Maio', 5), ('2004-March', 124), ('2004-May', 281), ('2004-agosto', 9), ('2004-avril', 1), ('2004-czerwiec', 1), ('2004-giugno', 2), ('2004-juillet', 3), ('2004-juli', 1), ('2004-julio', 8), ('2004-junio', 1), ('2004-lipiec', 1), ('2004-maj', 1), ('2004-mars', 9)]), ('Chemicals', [('2000-December', 1), ('2001-June', 1), ('2001-October', 2), ('2002-August', 4), ('2002-December', 4), ('2002-July', 1), ('2002-June', 1), ('2002-May', 2), ('2002-November', 6), ('2002-October', 2), ('2002-September', 2), ('2003-April', 7), ('2003-August', 11), ('2003-December', 9), ('2003-February', 11), ('2003-January', 1), ('2003-July', 10), ('2003-June', 6), ('2003-March', 3), ('2003-May', 19), ('2003-November', 16), ('2003-October', 8), ('2003-September', 5), ('2004-April', 19), ('2004-August', 112), ('2004-Februar', 2), ('2004-February', 39), ('2004-Januar', 1), ('2004-January', 11), ('2004-Julho', 1), ('2004-July', 208), ('2004-June', 131), ('2004-Maio', 1), ('2004-March', 29), ('2004-May', 97), ('2004-mars', 2)]), ('Engineering', [('2000-February', 1), ('2000-January', 1), ('2001-August', 5), ('2001-December', 3), ('2001-June', 2), ('2001-March', 2), ('2001-May', 2), ('2001-November', 1), ('2001-October', 3), ('2001-September', 3), ('2002-April', 3), ('2002-August', 5), ('2002-December', 12), ('2002-February', 18), ('2002-January', 3), ('2002-July', 1), ('2002-June', 8), ('2002-March', 7), ('2002-May', 6), ('2002-November', 7), ('2002-October', 6), ('2002-September', 12), ('2003-April', 21), ('2003-August', 13), ('2003-December', 19), ('2003-February', 8), ('2003-January', 11), ('2003-July', 29), ('2003-June', 6), ('2003-March', 9), ('2003-May', 18), ('2003-November', 30), ('2003-Novembro', 1), ('2003-October', 25), ('2003-September', 16), ('2003-diciembre', 1), ('2004-April', 90), ('2004-Aprill', 1), ('2004-August', 234), ('2004-February', 39), ('2004-January', 37), ('2004-Julho', 5), ('2004-Juli', 1), ('2004-July', 400), ('2004-June', 312), ('2004-Mai', 2), ('2004-March', 46), ('2004-May', 257), ('2004-czerwiec', 1), ('2004-giugno', 1), ('2004-janvier', 6), ('2004-juin', 1), ('2004-junio', 1), ('2004-lipiec', 2), ('2004-marzo', 2)]), ('Tourism', [('2000-March', 2), ('2001-December', 1), ('2002-April', 1), ('2002-December', 1), ('2002-March', 1), ('2002-November', 1), ('2002-October', 1), ('2002-September', 1), ('2003-April', 2), ('2003-August', 10), ('2003-December', 4), ('2003-February', 3), ('2003-July', 8), ('2003-June', 5), ('2003-March', 3), ('2003-May', 6), ('2003-November', 5), ('2003-October', 8), ('2003-September', 5), ('2004-April', 16), ('2004-August', 113), ('2004-February', 3), ('2004-January', 4), ('2004-July', 103), ('2004-June', 66), ('2004-Juni', 1), ('2004-March', 14), ('2004-May', 48), ('2004-mars', 2)]), ('Transportation', [('2001-August', 1), ('2001-July', 1), ('2001-March', 1), ('2001-May', 1), ('2002-April', 1), ('2002-August', 4), ('2002-December', 6), ('2002-July', 4), ('2002-June', 1), ('2002-November', 2), ('2002-October', 5), ('2002-September', 6), ('2003-April', 8), ('2003-August', 20), ('2003-December', 15), ('2003-February', 9), ('2003-January', 8), ('2003-July', 22), ('2003-June', 14), ('2003-March', 4), ('2003-May', 9), ('2003-November', 27), ('2003-October', 16), ('2003-September', 19), ('2003-novembre', 1), ('2004-April', 58), ('2004-August', 207), ('2004-February', 27), ('2004-January', 42), ('2004-July', 278), ('2004-June', 274), ('2004-Junho', 1), ('2004-Maio', 3), ('2004-March', 37), ('2004-May', 135), ('2004-august', 1), ('2004-avril', 1), ('2004-febrero', 1), ('2004-juin', 1), ('2004-junio', 4)]), ('Maritime', [('2001-October', 1), ('2003-April', 1), ('2003-August', 1), ('2003-December', 2), ('2003-July', 1), ('2003-March', 2), ('2003-May', 2), ('2003-November', 1), ('2003-October', 1), ('2003-September', 1), ('2004-April', 1), ('2004-August', 16), ('2004-January', 3), ('2004-July', 25), ('2004-June', 32), ('2004-March', 3), ('2004-May', 26), ('2004-agosto', 3), ('2004-mei', 2)]), ('Architecture', [('2002-April', 1), ('2002-August', 5), ('2002-December', 2), ('2002-February', 1), ('2002-January', 5), ('2002-July', 2), ('2002-November', 4), ('2002-October', 4), ('2002-September', 4), ('2003-April', 12), ('2003-August', 5), ('2003-December', 11), ('2003-February', 1), ('2003-January', 5), ('2003-July', 12), ('2003-June', 9), ('2003-March', 8), ('2003-May', 12), ('2003-November', 11), ('2003-October', 15), ('2003-September', 15), ('2003-Setembro', 1), ('2004-April', 28), ('2004-August', 185), ('2004-February', 34), ('2004-January', 36), ('2004-Julho', 2), ('2004-July', 271), ('2004-June', 188), ('2004-Maio', 1), ('2004-March', 30), ('2004-May', 215), ('2004-augustus', 1), ('2004-czerwiec', 2), ('2004-junio', 4), ('2004-lipiec', 2), ('2004-maj', 4), ('2004-marzo', 2)]), ('Biotech', [('2002-September', 1), ('2003-June', 1), ('2003-November', 2), ('2003-October', 3), ('2004-April', 3), ('2004-August', 15), ('2004-February', 3), ('2004-July', 22), ('2004-June', 31), ('2004-May', 19)]), ('RealEstate', [('2003-April', 1), ('2003-June', 2), ('2003-May', 1), ('2004-August', 2), ('2004-July', 4), ('2004-June', 4), ('2004-May', 3)])]\n"
     ]
    }
   ],
   "source": [
    "print(rddFinal.collect())"
   ]
  },
  {
   "cell_type": "code",
   "execution_count": 9,
   "metadata": {
    "collapsed": true
   },
   "outputs": [],
   "source": [
    "rddFinal.saveAsTextFile('./output')"
   ]
  },
  {
   "cell_type": "code",
   "execution_count": null,
   "metadata": {
    "collapsed": true
   },
   "outputs": [],
   "source": []
  }
 ],
 "metadata": {
  "kernelspec": {
   "display_name": "Python 3",
   "language": "python",
   "name": "python3"
  },
  "language_info": {
   "codemirror_mode": {
    "name": "ipython",
    "version": 3
   },
   "file_extension": ".py",
   "mimetype": "text/x-python",
   "name": "python",
   "nbconvert_exporter": "python",
   "pygments_lexer": "ipython3",
   "version": "3.6.1"
  }
 },
 "nbformat": 4,
 "nbformat_minor": 2
}
